{
 "cells": [
  {
   "cell_type": "code",
   "execution_count": 1,
   "metadata": {},
   "outputs": [],
   "source": [
    "import cv2\n",
    "import numpy as np\n",
    "import matplotlib.pyplot as plt"
   ]
  },
  {
   "attachments": {},
   "cell_type": "markdown",
   "metadata": {},
   "source": [
    "## ORB Feature Detection\n"
   ]
  },
  {
   "cell_type": "code",
   "execution_count": 2,
   "metadata": {},
   "outputs": [
    {
     "data": {
      "text/plain": [
       "True"
      ]
     },
     "execution_count": 2,
     "metadata": {},
     "output_type": "execute_result"
    }
   ],
   "source": [
    "'''\n",
    "cv2.ORB_create([, nfeatures[, scaleFactor[, nlevels[, edgeThreshold[, firstLevel[, WTA_K[, scoreType[, patchSize[, fastThreshold]]]]]]]]])\n",
    "参数默认值: nfeatures = 500, scaleFactor = 1.2f, nlevels = 8, edgeThreshold = 31, firstLevel = 0, WTA_K = 2, scoreType = ORB: : HARRIS_SCORE, patchSize = 31, fastThreshold = 20\n",
    "\n",
    "参数介绍: \n",
    "nfeatures: 要保留的最大特征数。\n",
    "scaleFactor:  金字塔抽取率，大于 1。 scaleFactor==2 表示经典金字塔，其中每个下一层的像素比前一层少 4 倍，但如此大的比例因子会显着降低特征匹配分数。另一方面，太接近 1 的比例因子意味着要覆盖特定的比例范围，将需要更多的金字塔级别，因此速度会受到影响。\n",
    "nlevels: 金字塔级别的数量。最小级别的线性大小等于 。input_image_linear_size/pow(scaleFactor, nlevels - firstLevel)。\n",
    "edgeThreshold: 未检测到特征的边界大小。应该大致匹配patchSize参数。\n",
    "firstLevel: 放置源图像的金字塔级别。以前的图层填充了放大的源图像。\n",
    "WTA_K: 产生定向简要描述符的每个元素的点数。默认值 2 表示我们采用随机点对并比较它们的亮度的 BRIEF,因此得到 0/1 响应。其他可能的值是 3 和 4。例如 3 表示取 3 个随机点（当然，这些点坐标是随机的，但它们是从预定义的种子生成的，因此 Brief 描述符的每个元素都确定性地计算来自像素矩形），找到最大亮度点和获胜者的输出索引（0、1 或 2）。这样的输出将占用 2 位，因此它需要一个特殊的汉明变体距离，表示为 NORM_HAMMING2（每个bin 2 位）。当 WTA_K=4 时，取 4 个随机点来计算每个 bin（这也将占用 2 位，可能值为 0、1、2 或 3）。\n",
    "scoreType: 默认的 HARRIS_SCORE 表示使用 Harris 算法对特征进行排序（分数写入 KeyPoint: : score 并用于保留最佳 nfeatures 特征）;FAST_SCORE 是参数的替代值，它产生的关键点稳定性稍差，但计算速度要快一些。\n",
    "patchSize: 面向的BRIEF描述符使用的补丁的大小。当然, 在较小的金字塔层上，特征覆盖的感知图像区域会更大。\n",
    "fastThreshold: 快速阈值\n",
    "'''\n",
    "\n",
    "'''\n",
    "nfeatures --> 最终输出最大特征点数目；\n",
    "scaleFactor --> 金字塔图像上采样比率；\n",
    "nlevels --> 高斯金字塔层数；\n",
    "edgeThreshold --> 边缘阈值；\n",
    "firstLevel= 0 --> 指定第一层的索引值；\n",
    "WTA_K --> 这个是跟BRIEF描述子用的;\n",
    "scoreType --> 对所有的特征点进行排名用的方法；\n",
    "patchSize --> 用于计算BRIEF描述子的特征点领域大小。\n",
    "'''\n",
    "\n",
    "src = cv2.imread(\"FAU.jpg\")\n",
    "# 创建orb检测器\n",
    "orb = cv2.ORB_create()\n",
    "kps = orb.detect(src)\n",
    "# -1表示随机颜色\n",
    "result = cv2.drawKeypoints(src, kps, None, -1, cv2.DrawMatchesFlags_DEFAULT)\n",
    "cv2.imshow(\"result\", result)\n",
    "cv2.imwrite('orb_result.jpg', result)\n"
   ]
  },
  {
   "attachments": {},
   "cell_type": "markdown",
   "metadata": {},
   "source": [
    "## SIFT Feature Detection"
   ]
  },
  {
   "cell_type": "code",
   "execution_count": 3,
   "metadata": {},
   "outputs": [
    {
     "data": {
      "text/plain": [
       "True"
      ]
     },
     "execution_count": 3,
     "metadata": {},
     "output_type": "execute_result"
    }
   ],
   "source": [
    "\n",
    "'''\n",
    "retval=cv.SIFT_create([, nfeatures[, nOctaveLayers[, contrastThreshold[, edgeThreshold[, sigma]]]]])\n",
    "retval=cv.SIFT_create(nfeatures, nOctaveLayers, contrastThreshold, edgeThreshold, sigma, descriptorType)\n",
    "参数默认值: nfeatures=0, nOctaveLayers=3,contrastThreshold=0.04,edgeThreshold=10,sigma=1.6\n",
    "\n",
    "参数介绍: \n",
    "nfeatures: 要保留的最佳特征的数量。特征按它们的分数排序（在SIFT算法中作为局部对比度测量）。\n",
    "nOctaveLayers: 每个octave中的层数。八度的数量是根据图像分辨率自动计算的。\n",
    "contrastThreshold: 用于滤除半均匀（低对比度）区域中的弱特征的对比度阈值。阈值越大,检测器产生的特征就越少。\n",
    "edgeThreshold: 用于滤除边缘特征的阈值。值越大,过滤掉的特征越少（保留的特征越多）。\n",
    "sigma: 高斯的 sigma 应用于octave #0 的输入图像。\n",
    "'''\n",
    "src = cv2.imread(\"FAU.jpg\")\n",
    "sift = cv2.SIFT_create(500)\n",
    "kp1, des1 = sift.detectAndCompute(src,None)\n",
    "result = cv2.drawKeypoints(src, kp1, None,)\n",
    "cv2.imshow(\"result\", result)\n",
    "cv2.imwrite('sift_result.jpg', result)"
   ]
  },
  {
   "cell_type": "code",
   "execution_count": 2,
   "metadata": {},
   "outputs": [
    {
     "ename": "AttributeError",
     "evalue": "module 'cv2' has no attribute 'surf_create'",
     "output_type": "error",
     "traceback": [
      "\u001b[1;31m---------------------------------------------------------------------------\u001b[0m",
      "\u001b[1;31mAttributeError\u001b[0m                            Traceback (most recent call last)",
      "\u001b[1;32m~\\AppData\\Local\\Temp\\ipykernel_6448\\193978883.py\u001b[0m in \u001b[0;36m<module>\u001b[1;34m\u001b[0m\n\u001b[1;32m----> 1\u001b[1;33m \u001b[0msurf\u001b[0m \u001b[1;33m=\u001b[0m \u001b[0mcv2\u001b[0m\u001b[1;33m.\u001b[0m\u001b[0msurf_create\u001b[0m\u001b[1;33m(\u001b[0m\u001b[1;33m)\u001b[0m\u001b[1;33m\u001b[0m\u001b[1;33m\u001b[0m\u001b[0m\n\u001b[0m",
      "\u001b[1;31mAttributeError\u001b[0m: module 'cv2' has no attribute 'surf_create'"
     ]
    }
   ],
   "source": []
  },
  {
   "cell_type": "code",
   "execution_count": null,
   "metadata": {},
   "outputs": [],
   "source": []
  }
 ],
 "metadata": {
  "kernelspec": {
   "display_name": "base",
   "language": "python",
   "name": "python3"
  },
  "language_info": {
   "codemirror_mode": {
    "name": "ipython",
    "version": 3
   },
   "file_extension": ".py",
   "mimetype": "text/x-python",
   "name": "python",
   "nbconvert_exporter": "python",
   "pygments_lexer": "ipython3",
   "version": "3.9.13"
  },
  "orig_nbformat": 4,
  "vscode": {
   "interpreter": {
    "hash": "77f56f57217d58f2637a78f43068bb82a198c4b9b7dc36d7b5b03538627b73d0"
   }
  }
 },
 "nbformat": 4,
 "nbformat_minor": 2
}
