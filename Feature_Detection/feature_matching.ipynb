{
 "cells": [
  {
   "cell_type": "code",
   "execution_count": 1,
   "metadata": {},
   "outputs": [
    {
     "data": {
      "text/plain": [
       "True"
      ]
     },
     "execution_count": 1,
     "metadata": {},
     "output_type": "execute_result"
    }
   ],
   "source": [
    "'''\n",
    "Brute-Force匹配器：cv2.BFMatcher(normType, crossCheck)\n",
    "\n",
    "normType - 指定要使用的距离量度,默认是cv2.NORM_L2,对于二进制字符串的描述子，比如ORB，BRIEF，BRISK等，应该用cv2.NORM_HAMMING；\n",
    "crossCheck - 默认是false，如果它是true，匹配器返回那些和(i, j)匹配的，这样集合A里的第i个描述子和集合B里的第j个描述子最匹配，两个集合里的两个特征应该互相匹配，它提供了连续的结果。\n",
    "matches = bf.match(des1, des2)的结果是DMatch对象列表\n",
    "\n",
    "这个DMatch对象有下面的属性：\n",
    "\n",
    "DMatch.distance - 描述子之间的距离。越低越好\n",
    "DMatch.trainIdx - 训练描述子里的描述子索引\n",
    "DMatch.queryIdx - 查询描述子里的描述子索引\n",
    "DMatch.imgIdx - 训练图像的索引\n",
    "'''\n",
    "\n",
    "import cv2\n",
    "import matplotlib.pyplot as plt\n",
    "box = cv2.imread(\"FAU.jpg\")\n",
    "box_in_sence = cv2.imread(\"FAU1.jpg\")\n",
    "\n",
    "# 创建ORB特征检测器\n",
    "orb = cv2.ORB_create()\n",
    "kp1, des1 = orb.detectAndCompute(box,None)\n",
    "kp2, des2 = orb.detectAndCompute(box_in_sence,None)\n",
    "\n",
    "# 暴力匹配 汉明距离匹配特征点\n",
    "bf = cv2.BFMatcher(cv2.NORM_HAMMING, crossCheck=True)\n",
    "matches = bf.match(des1,des2)\n",
    "\n",
    "# 绘制匹配\n",
    "result = cv2.drawMatches(box, kp1, box_in_sence, kp2, matches, None)\n",
    "cv2.imwrite(\"orb-match.jpg\", result)\n"
   ]
  },
  {
   "cell_type": "code",
   "execution_count": 3,
   "metadata": {},
   "outputs": [
    {
     "data": {
      "text/plain": [
       "True"
      ]
     },
     "execution_count": 3,
     "metadata": {},
     "output_type": "execute_result"
    }
   ],
   "source": [
    "bf = cv2.BFMatcher(cv2.NORM_HAMMING, crossCheck=True)\n",
    "# knn match\n",
    "matches = bf.knnMatch(des1, des2, k=1)\n",
    "\n",
    "# 删除matches里面的空list，并且根据距离排序\n",
    "while [] in matches:\n",
    "    matches.remove([])\n",
    "matches = sorted(matches, key = lambda x:x[0].distance)\n",
    "\n",
    "# 画出距离最短的前15个点\n",
    "result = cv2.drawMatchesKnn(box, kp1, box_in_sence, kp2, matches[0:15], None, matchColor = (0,255,0), singlePointColor = (255,0,255))\n",
    "cv2.imwrite(\"knn-match.jpg\", result)"
   ]
  },
  {
   "cell_type": "code",
   "execution_count": 4,
   "metadata": {},
   "outputs": [
    {
     "data": {
      "text/plain": [
       "True"
      ]
     },
     "execution_count": 4,
     "metadata": {},
     "output_type": "execute_result"
    }
   ],
   "source": [
    "\n",
    "'''\n",
    "FLANN是快速最近邻搜索包（Fast_Library_for_Approximate_Nearest_Neighbors）的简称，它是一个对大数据集和高维特征进行最近邻搜索的算法的集合，而且这些算法都已经被优化过了，在面对大数据集是它的效果要好于BFMatcher。\n",
    "FLANN是一种高效的数值或者字符串匹配算法，SIFT/SURF是基于浮点数的匹配，ORB是二值匹配，速度更快。\n",
    "对于FLANN匹配算法，当使用ORB匹配算法的时候，需要重新构造HASH。\n",
    "flann = cv.FlannBasedMatcher(index_params, search_params)\n",
    "\n",
    "indexParams - 字典，包含各种算法，具体可参考FLANN文档。\n",
    "SearchParams - 字典，用来指定递归遍历的次数。值越高结果越准确，但是消耗的时间也越多，修改可以传入参数： search_params=dict( checks = 10)\n",
    "'''\n",
    "\n",
    "# 创建SIFT特征检测器\n",
    "sift = cv2.xfeatures2d.SIFT_create()\n",
    "\n",
    "kp1, des1 = sift.detectAndCompute(box,None)\n",
    "kp2, des2 = sift.detectAndCompute(box_in_sence,None)\n",
    "\n",
    "\n",
    "index_params = dict(algorithm = 0, trees = 5)\n",
    "\n",
    "search_params = dict(checks=20)\n",
    "\n",
    "flann = cv2.FlannBasedMatcher(index_params,search_params)\n",
    "\n",
    "matches = flann.knnMatch(des1, des2, k=2)\n",
    "\n",
    "\n",
    "# 记录好的点\n",
    "goodMatches = [[0,0] for i in range(len(matches))]\n",
    "\n",
    "for i,(m,n) in enumerate(matches):\n",
    "    if m.distance < 0.7*n.distance:\n",
    "        goodMatches[i]=[1,0]\n",
    "\n",
    "draw_params = dict(matchColor = (0,255,0), singlePointColor = (255,0,0), matchesMask = goodMatches, flags = 0)\n",
    "\n",
    "result = cv2.drawMatchesKnn(box, kp1, box_in_sence, kp2, matches, None, **draw_params)\n",
    "cv2.imwrite(\"flann-match.jpg\", result)"
   ]
  }
 ],
 "metadata": {
  "kernelspec": {
   "display_name": "base",
   "language": "python",
   "name": "python3"
  },
  "language_info": {
   "codemirror_mode": {
    "name": "ipython",
    "version": 3
   },
   "file_extension": ".py",
   "mimetype": "text/x-python",
   "name": "python",
   "nbconvert_exporter": "python",
   "pygments_lexer": "ipython3",
   "version": "3.9.13"
  },
  "orig_nbformat": 4,
  "vscode": {
   "interpreter": {
    "hash": "77f56f57217d58f2637a78f43068bb82a198c4b9b7dc36d7b5b03538627b73d0"
   }
  }
 },
 "nbformat": 4,
 "nbformat_minor": 2
}
